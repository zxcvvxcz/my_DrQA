{
 "cells": [
  {
   "cell_type": "code",
   "execution_count": 15,
   "metadata": {
    "collapsed": true
   },
   "outputs": [],
   "source": [
    "import msgpack\n",
    "\n",
    "with open('SQuAD/data.msgpack', 'rb') as f:\n",
    "    data = msgpack.load(f, encoding='utf8')\n",
    "# train = sorted(data['train'], key=lambda x: len(x[1]))\n",
    "# dev = data['dev'].sort(key=lambda x: len(x[1]))\n"
   ]
  },
  {
   "cell_type": "code",
   "execution_count": 16,
   "outputs": [],
   "source": [
    "# train: id, context_id, context_features, tag_id, ent_id,\n",
    "#        question_id, context, context_token_span, answer_start, answer_end\n",
    "# dev:   id, context_id, context_features, tag_id, ent_id,\n",
    "#        question_id, context, context_token_span, answer\n",
    "import torch\n",
    "import re\n",
    "import traceback\n",
    "def train_data_trans(row):\n",
    "    idx, context_id, context_features, tag_id, ent_id,\\\n",
    "    question_id, context, context_token_span, answer_start, answer_end = row\n",
    "    return len(context_id), len(question_id), idx, torch.tensor(context_id), torch.tensor(question_id), \\\n",
    "           [torch.tensor(context_id[answer_start:answer_end + 1])], [torch.tensor([answer_start, answer_end])]\n",
    "def train_data_dev(row):\n",
    "    idx, context_id, context_features, tag_id, ent_id,\\\n",
    "    question_id, context, context_token_span, answers = row\n",
    "    # try:\n",
    "    #     for answer in answers:\n",
    "    #         answer_match = re.search(answer, context)\n",
    "    #         if answer_match is not None:\n",
    "    #             answer_start = list(zip(*context_token_span))[0].index(answer_match.start())\n",
    "    #             answer_end = list(zip(*context_token_span))[1].index(answer_match.end())\n",
    "    #             answer_list.append(torch.tensor(context_id[answer_start:answer_end + 1]))\n",
    "    #             span_list.append(torch.tensor([answer_start, answer_end]))\n",
    "    return len(context_id), len(question_id), idx, torch.tensor(context_id), torch.tensor(question_id), \\\n",
    "           answers\n",
    "    # except:\n",
    "    #     print(idx)\n",
    "    #     print(answer_match)\n",
    "    #     print(context_token_span)\n",
    "    #     traceback.print_exc()"
   ],
   "metadata": {
    "collapsed": false,
    "pycharm": {
     "name": "#%%\n"
    }
   }
  },
  {
   "cell_type": "code",
   "execution_count": 17,
   "outputs": [],
   "source": [
    "# from pre import flatten_json\n",
    "# train_json = flatten_json('.data/train-v1.1.json', 'train')\n",
    "# dev_json = flatten_json('.data/dev-v1.1.json', 'dev')"
   ],
   "metadata": {
    "collapsed": false,
    "pycharm": {
     "name": "#%%\n"
    }
   }
  },
  {
   "cell_type": "code",
   "execution_count": 18,
   "outputs": [],
   "source": [
    "# dev_0 = data['dev'][1]\n",
    "# # t_json_0 = train_json[0]\n",
    "# trans_0 = train_data_dev(dev_0)"
   ],
   "metadata": {
    "collapsed": false,
    "pycharm": {
     "name": "#%%\n"
    }
   }
  },
  {
   "cell_type": "code",
   "execution_count": 19,
   "outputs": [],
   "source": [
    "trans_train = sorted([train_data_trans(row) for row in data['train']])\n",
    "trans_dev = sorted([train_data_dev(row) for row in data['dev']])"
   ],
   "metadata": {
    "collapsed": false,
    "pycharm": {
     "name": "#%%\n"
    }
   }
  },
  {
   "cell_type": "code",
   "execution_count": 20,
   "outputs": [],
   "source": [
    "import pickle\n",
    "with open('trans_train.pickle', 'wb') as f:\n",
    "    pickle.dump(trans_train, f, pickle.HIGHEST_PROTOCOL)\n",
    "with open('trans_dev.pickle', 'wb') as f:\n",
    "    pickle.dump(trans_dev, f, pickle.HIGHEST_PROTOCOL)"
   ],
   "metadata": {
    "collapsed": false,
    "pycharm": {
     "name": "#%%\n"
    }
   }
  },
  {
   "cell_type": "code",
   "execution_count": 21,
   "outputs": [
    {
     "data": {
      "text/plain": "(47,\n 7,\n '56e12005cd28a01900c67619',\n tensor([  737,   148,    34,  7480,    31,   352,     6,  5458,  2032, 16465,\n            19, 26568,    90,     3,    50,    15,    83,    56,  4444,     9,\n          5378,   181,     4,   113,     1,   145,    13,  7563,     8, 13194,\n          1893,    44,    24,   154,  4076,     3,   737,  2138,     9,  7529,\n             8,  1236,   224,     6,   491,   113,     1]),\n tensor([1089,   49,   56, 1231,    2, 5378,   18]),\n ['her weight', 'her weight', 'her weight.'])"
     },
     "execution_count": 21,
     "metadata": {},
     "output_type": "execute_result"
    }
   ],
   "source": [
    "dev_wrong = [item for item in data['dev']\n",
    "             if item[0] == '56e12005cd28a01900c67619'][0]\n",
    "train_data_dev(dev_wrong)"
   ],
   "metadata": {
    "collapsed": false,
    "pycharm": {
     "name": "#%%\n"
    }
   }
  },
  {
   "cell_type": "code",
   "execution_count": 22,
   "outputs": [
    {
     "data": {
      "text/plain": "'Tesla could be harsh at times and openly expressed disgust for overweight people, such as when he fired a secretary because of her weight.:110 He was quick to criticize clothing; on several occasions, Tesla directed a subordinate to go home and change her dress.:33'"
     },
     "execution_count": 22,
     "metadata": {},
     "output_type": "execute_result"
    }
   ],
   "source": [
    "dev_wrong[6]"
   ],
   "metadata": {
    "collapsed": false,
    "pycharm": {
     "name": "#%%\n"
    }
   }
  }
 ],
 "metadata": {
  "kernelspec": {
   "display_name": "Python 3",
   "language": "python",
   "name": "python3"
  },
  "language_info": {
   "codemirror_mode": {
    "name": "ipython",
    "version": 2
   },
   "file_extension": ".py",
   "mimetype": "text/x-python",
   "name": "python",
   "nbconvert_exporter": "python",
   "pygments_lexer": "ipython2",
   "version": "2.7.6"
  }
 },
 "nbformat": 4,
 "nbformat_minor": 0
}